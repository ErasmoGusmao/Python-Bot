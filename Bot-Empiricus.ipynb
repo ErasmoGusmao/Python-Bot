{
 "cells": [
  {
   "cell_type": "markdown",
   "id": "1e88de56-31bb-4b57-98a0-2462117fb57d",
   "metadata": {},
   "source": [
    "# Bot com Python - Acesso a minha área da Empiricus"
   ]
  },
  {
   "cell_type": "code",
   "execution_count": 87,
   "id": "4f4e53bb-5d22-4769-b9c2-6882e661bb4f",
   "metadata": {},
   "outputs": [
    {
     "data": {
      "text/plain": [
       "Point(x=540, y=834)"
      ]
     },
     "execution_count": 87,
     "metadata": {},
     "output_type": "execute_result"
    }
   ],
   "source": [
    "import time\n",
    "\n",
    "# pausa de 3 segundos para dar tempo de posicionar o mouse na tela\n",
    "time.sleep(5)\n",
    "\n",
    "# Pego a posição exata do curso do mouse na tela\n",
    "pyautogui.position()"
   ]
  },
  {
   "cell_type": "markdown",
   "id": "f5d8f245-4af5-43c2-8652-de6e9cbbcb6f",
   "metadata": {},
   "source": [
    "Script do Bot para acessar minha planilha"
   ]
  },
  {
   "cell_type": "code",
   "execution_count": 49,
   "id": "e5aa4447-b1c0-4436-8a74-ef66ac275c38",
   "metadata": {},
   "outputs": [],
   "source": [
    "# Teste de acesso a planilha Lista.xlsx\n",
    "import pyautogui\n",
    "\n",
    "# Pausa de 1 segundo para cada liha de comando\n",
    "pyautogui.PAUSE = 0.5\n",
    "\n",
    "# Abrindo a ferramenta no sistema\n",
    "pyautogui.press(\"win\")\n",
    "\n",
    "# Clicar na barra de endereço do Explorador\n",
    "pyautogui.click(x=775, y=159)\n",
    "\n",
    "# Digita o nome na barra de endereço\n",
    "pyautogui.click(x=775, y=159)\n",
    "pyautogui.write(\"Explorador de Arquivos\")\n",
    "pyautogui.press(\"enter\")\n",
    "\n",
    "# Maximizar a tela\n",
    "pyautogui.click(x=1610, y=194)\n",
    "pyautogui.press(\"enter\")\n",
    "\n",
    "# Clicar na barra de endereço do Explorador\n",
    "pyautogui.click(x=892, y=127)\n",
    "\n",
    "# Escreve o endereço onde está minha planilha\n",
    "pyautogui.write(\"D:\\HD-Antigo\\Documentos\\Erasmo Documentos\\Lista.xlsx\")\n",
    "pyautogui.press(\"enter\")"
   ]
  },
  {
   "cell_type": "markdown",
   "id": "2cfd0620-fb76-4792-bb0a-1cb23427f0c8",
   "metadata": {},
   "source": [
    "### Bot na Internet - Selenium"
   ]
  },
  {
   "cell_type": "markdown",
   "id": "8666d6c4-98ce-4415-ad28-f5992b4f6efb",
   "metadata": {},
   "source": [
    "Biblioteca para avegar pela internet"
   ]
  },
  {
   "cell_type": "markdown",
   "id": "f39e310f-e052-44f8-8f1b-4ab55936b9c1",
   "metadata": {},
   "source": [
    "Criar um bot no computador para interagir com o browser e clicar."
   ]
  },
  {
   "cell_type": "code",
   "execution_count": 3,
   "id": "f9346acb-c298-4387-83e8-793b0ecfa83a",
   "metadata": {},
   "outputs": [],
   "source": [
    "import pyautogui\n",
    "\n",
    "def BotClica():\n",
    "    # Clicar no meio da tela\n",
    "    pyautogui.click(x=664, y=593)\n",
    "    \n",
    "    for i in range(1):\n",
    "        pyautogui.scroll(-250)\n",
    "    \n",
    "    pyautogui.click(x=540, y=834)\n"
   ]
  },
  {
   "cell_type": "markdown",
   "id": "3df7da4e-a7f8-4358-aafe-df1a6fbd313a",
   "metadata": {},
   "source": [
    "Esse Bot isrá acessar minha conta do Estratégia Concursos"
   ]
  },
  {
   "cell_type": "code",
   "execution_count": 12,
   "id": "59a4aa6d-4312-4e45-979e-445f5548f561",
   "metadata": {},
   "outputs": [
    {
     "name": "stderr",
     "output_type": "stream",
     "text": [
      "<ipython-input-12-67aab37396aa>:14: DeprecationWarning: find_element_by_* commands are deprecated. Please use find_element() instead\n",
      "  navegador.find_element_by_xpath('//*[@id=\"password\"]').send_keys('CEP2010')\n"
     ]
    },
    {
     "ename": "ElementNotInteractableException",
     "evalue": "Message: element not interactable\n  (Session info: chrome=98.0.4758.82)\nStacktrace:\nBacktrace:\n\tOrdinal0 [0x004BFDC3+2555331]\n\tOrdinal0 [0x004577F1+2127857]\n\tOrdinal0 [0x00352CD0+1060048]\n\tOrdinal0 [0x003799F3+1219059]\n\tOrdinal0 [0x0037913F+1216831]\n\tOrdinal0 [0x00397B0C+1342220]\n\tOrdinal0 [0x00374984+1198468]\n\tOrdinal0 [0x00397C14+1342484]\n\tOrdinal0 [0x003A75FA+1406458]\n\tOrdinal0 [0x00397976+1341814]\n\tOrdinal0 [0x003736B6+1193654]\n\tOrdinal0 [0x00374546+1197382]\n\tGetHandleVerifier [0x00659622+1619522]\n\tGetHandleVerifier [0x0070882C+2336844]\n\tGetHandleVerifier [0x005523E1+541697]\n\tGetHandleVerifier [0x00551443+537699]\n\tOrdinal0 [0x0045D18E+2150798]\n\tOrdinal0 [0x00461518+2168088]\n\tOrdinal0 [0x00461660+2168416]\n\tOrdinal0 [0x0046B330+2208560]\n\tBaseThreadInitThunk [0x76816739+25]\n\tRtlGetFullPathName_UEx [0x770B8E7F+1215]\n\tRtlGetFullPathName_UEx [0x770B8E4D+1165]\n",
     "output_type": "error",
     "traceback": [
      "\u001b[1;31m---------------------------------------------------------------------------\u001b[0m",
      "\u001b[1;31mElementNotInteractableException\u001b[0m           Traceback (most recent call last)",
      "\u001b[1;32m<ipython-input-12-67aab37396aa>\u001b[0m in \u001b[0;36m<module>\u001b[1;34m\u001b[0m\n\u001b[0;32m     12\u001b[0m \u001b[1;33m\u001b[0m\u001b[0m\n\u001b[0;32m     13\u001b[0m \u001b[1;31m#navegador.find_element_by_xpath('//*[@id=\"username\"]').send_keys(login)\u001b[0m\u001b[1;33m\u001b[0m\u001b[1;33m\u001b[0m\u001b[1;33m\u001b[0m\u001b[0m\n\u001b[1;32m---> 14\u001b[1;33m \u001b[0mnavegador\u001b[0m\u001b[1;33m.\u001b[0m\u001b[0mfind_element_by_xpath\u001b[0m\u001b[1;33m(\u001b[0m\u001b[1;34m'//*[@id=\"password\"]'\u001b[0m\u001b[1;33m)\u001b[0m\u001b[1;33m.\u001b[0m\u001b[0msend_keys\u001b[0m\u001b[1;33m(\u001b[0m\u001b[1;34m'CEP2010'\u001b[0m\u001b[1;33m)\u001b[0m\u001b[1;33m\u001b[0m\u001b[1;33m\u001b[0m\u001b[0m\n\u001b[0m\u001b[0;32m     15\u001b[0m \u001b[0mnavegador\u001b[0m\u001b[1;33m.\u001b[0m\u001b[0mfind_element_by_xpath\u001b[0m\u001b[1;33m(\u001b[0m\u001b[1;34m'//*[@id=\"login\"]/div[3]/div[1]/div[2]/div[2]/form/button'\u001b[0m\u001b[1;33m)\u001b[0m\u001b[1;33m.\u001b[0m\u001b[0mclick\u001b[0m\u001b[1;33m\u001b[0m\u001b[1;33m\u001b[0m\u001b[0m\n\u001b[0;32m     16\u001b[0m \u001b[1;33m\u001b[0m\u001b[0m\n",
      "\u001b[1;32m~\\anaconda3\\lib\\site-packages\\selenium\\webdriver\\remote\\webelement.py\u001b[0m in \u001b[0;36msend_keys\u001b[1;34m(self, *value)\u001b[0m\n\u001b[0;32m    538\u001b[0m                 \u001b[0mvalue\u001b[0m \u001b[1;33m=\u001b[0m \u001b[1;34m'\\n'\u001b[0m\u001b[1;33m.\u001b[0m\u001b[0mjoin\u001b[0m\u001b[1;33m(\u001b[0m\u001b[0mremote_files\u001b[0m\u001b[1;33m)\u001b[0m\u001b[1;33m\u001b[0m\u001b[1;33m\u001b[0m\u001b[0m\n\u001b[0;32m    539\u001b[0m \u001b[1;33m\u001b[0m\u001b[0m\n\u001b[1;32m--> 540\u001b[1;33m         self._execute(Command.SEND_KEYS_TO_ELEMENT,\n\u001b[0m\u001b[0;32m    541\u001b[0m                       {'text': \"\".join(keys_to_typing(value)),\n\u001b[0;32m    542\u001b[0m                        'value': keys_to_typing(value)})\n",
      "\u001b[1;32m~\\anaconda3\\lib\\site-packages\\selenium\\webdriver\\remote\\webelement.py\u001b[0m in \u001b[0;36m_execute\u001b[1;34m(self, command, params)\u001b[0m\n\u001b[0;32m    708\u001b[0m             \u001b[0mparams\u001b[0m \u001b[1;33m=\u001b[0m \u001b[1;33m{\u001b[0m\u001b[1;33m}\u001b[0m\u001b[1;33m\u001b[0m\u001b[1;33m\u001b[0m\u001b[0m\n\u001b[0;32m    709\u001b[0m         \u001b[0mparams\u001b[0m\u001b[1;33m[\u001b[0m\u001b[1;34m'id'\u001b[0m\u001b[1;33m]\u001b[0m \u001b[1;33m=\u001b[0m \u001b[0mself\u001b[0m\u001b[1;33m.\u001b[0m\u001b[0m_id\u001b[0m\u001b[1;33m\u001b[0m\u001b[1;33m\u001b[0m\u001b[0m\n\u001b[1;32m--> 710\u001b[1;33m         \u001b[1;32mreturn\u001b[0m \u001b[0mself\u001b[0m\u001b[1;33m.\u001b[0m\u001b[0m_parent\u001b[0m\u001b[1;33m.\u001b[0m\u001b[0mexecute\u001b[0m\u001b[1;33m(\u001b[0m\u001b[0mcommand\u001b[0m\u001b[1;33m,\u001b[0m \u001b[0mparams\u001b[0m\u001b[1;33m)\u001b[0m\u001b[1;33m\u001b[0m\u001b[1;33m\u001b[0m\u001b[0m\n\u001b[0m\u001b[0;32m    711\u001b[0m \u001b[1;33m\u001b[0m\u001b[0m\n\u001b[0;32m    712\u001b[0m     \u001b[1;32mdef\u001b[0m \u001b[0mfind_element\u001b[0m\u001b[1;33m(\u001b[0m\u001b[0mself\u001b[0m\u001b[1;33m,\u001b[0m \u001b[0mby\u001b[0m\u001b[1;33m=\u001b[0m\u001b[0mBy\u001b[0m\u001b[1;33m.\u001b[0m\u001b[0mID\u001b[0m\u001b[1;33m,\u001b[0m \u001b[0mvalue\u001b[0m\u001b[1;33m=\u001b[0m\u001b[1;32mNone\u001b[0m\u001b[1;33m)\u001b[0m\u001b[1;33m:\u001b[0m\u001b[1;33m\u001b[0m\u001b[1;33m\u001b[0m\u001b[0m\n",
      "\u001b[1;32m~\\anaconda3\\lib\\site-packages\\selenium\\webdriver\\remote\\webdriver.py\u001b[0m in \u001b[0;36mexecute\u001b[1;34m(self, driver_command, params)\u001b[0m\n\u001b[0;32m    422\u001b[0m         \u001b[0mresponse\u001b[0m \u001b[1;33m=\u001b[0m \u001b[0mself\u001b[0m\u001b[1;33m.\u001b[0m\u001b[0mcommand_executor\u001b[0m\u001b[1;33m.\u001b[0m\u001b[0mexecute\u001b[0m\u001b[1;33m(\u001b[0m\u001b[0mdriver_command\u001b[0m\u001b[1;33m,\u001b[0m \u001b[0mparams\u001b[0m\u001b[1;33m)\u001b[0m\u001b[1;33m\u001b[0m\u001b[1;33m\u001b[0m\u001b[0m\n\u001b[0;32m    423\u001b[0m         \u001b[1;32mif\u001b[0m \u001b[0mresponse\u001b[0m\u001b[1;33m:\u001b[0m\u001b[1;33m\u001b[0m\u001b[1;33m\u001b[0m\u001b[0m\n\u001b[1;32m--> 424\u001b[1;33m             \u001b[0mself\u001b[0m\u001b[1;33m.\u001b[0m\u001b[0merror_handler\u001b[0m\u001b[1;33m.\u001b[0m\u001b[0mcheck_response\u001b[0m\u001b[1;33m(\u001b[0m\u001b[0mresponse\u001b[0m\u001b[1;33m)\u001b[0m\u001b[1;33m\u001b[0m\u001b[1;33m\u001b[0m\u001b[0m\n\u001b[0m\u001b[0;32m    425\u001b[0m             response['value'] = self._unwrap_value(\n\u001b[0;32m    426\u001b[0m                 response.get('value', None))\n",
      "\u001b[1;32m~\\anaconda3\\lib\\site-packages\\selenium\\webdriver\\remote\\errorhandler.py\u001b[0m in \u001b[0;36mcheck_response\u001b[1;34m(self, response)\u001b[0m\n\u001b[0;32m    245\u001b[0m                 \u001b[0malert_text\u001b[0m \u001b[1;33m=\u001b[0m \u001b[0mvalue\u001b[0m\u001b[1;33m[\u001b[0m\u001b[1;34m'alert'\u001b[0m\u001b[1;33m]\u001b[0m\u001b[1;33m.\u001b[0m\u001b[0mget\u001b[0m\u001b[1;33m(\u001b[0m\u001b[1;34m'text'\u001b[0m\u001b[1;33m)\u001b[0m\u001b[1;33m\u001b[0m\u001b[1;33m\u001b[0m\u001b[0m\n\u001b[0;32m    246\u001b[0m             \u001b[1;32mraise\u001b[0m \u001b[0mexception_class\u001b[0m\u001b[1;33m(\u001b[0m\u001b[0mmessage\u001b[0m\u001b[1;33m,\u001b[0m \u001b[0mscreen\u001b[0m\u001b[1;33m,\u001b[0m \u001b[0mstacktrace\u001b[0m\u001b[1;33m,\u001b[0m \u001b[0malert_text\u001b[0m\u001b[1;33m)\u001b[0m  \u001b[1;31m# type: ignore[call-arg]  # mypy is not smart enough here\u001b[0m\u001b[1;33m\u001b[0m\u001b[1;33m\u001b[0m\u001b[0m\n\u001b[1;32m--> 247\u001b[1;33m         \u001b[1;32mraise\u001b[0m \u001b[0mexception_class\u001b[0m\u001b[1;33m(\u001b[0m\u001b[0mmessage\u001b[0m\u001b[1;33m,\u001b[0m \u001b[0mscreen\u001b[0m\u001b[1;33m,\u001b[0m \u001b[0mstacktrace\u001b[0m\u001b[1;33m)\u001b[0m\u001b[1;33m\u001b[0m\u001b[1;33m\u001b[0m\u001b[0m\n\u001b[0m\u001b[0;32m    248\u001b[0m \u001b[1;33m\u001b[0m\u001b[0m\n\u001b[0;32m    249\u001b[0m     \u001b[1;32mdef\u001b[0m \u001b[0m_value_or_default\u001b[0m\u001b[1;33m(\u001b[0m\u001b[0mself\u001b[0m\u001b[1;33m,\u001b[0m \u001b[0mobj\u001b[0m\u001b[1;33m:\u001b[0m \u001b[0mMapping\u001b[0m\u001b[1;33m[\u001b[0m\u001b[0m_KT\u001b[0m\u001b[1;33m,\u001b[0m \u001b[0m_VT\u001b[0m\u001b[1;33m]\u001b[0m\u001b[1;33m,\u001b[0m \u001b[0mkey\u001b[0m\u001b[1;33m:\u001b[0m \u001b[0m_KT\u001b[0m\u001b[1;33m,\u001b[0m \u001b[0mdefault\u001b[0m\u001b[1;33m:\u001b[0m \u001b[0m_VT\u001b[0m\u001b[1;33m)\u001b[0m \u001b[1;33m->\u001b[0m \u001b[0m_VT\u001b[0m\u001b[1;33m:\u001b[0m\u001b[1;33m\u001b[0m\u001b[1;33m\u001b[0m\u001b[0m\n",
      "\u001b[1;31mElementNotInteractableException\u001b[0m: Message: element not interactable\n  (Session info: chrome=98.0.4758.82)\nStacktrace:\nBacktrace:\n\tOrdinal0 [0x004BFDC3+2555331]\n\tOrdinal0 [0x004577F1+2127857]\n\tOrdinal0 [0x00352CD0+1060048]\n\tOrdinal0 [0x003799F3+1219059]\n\tOrdinal0 [0x0037913F+1216831]\n\tOrdinal0 [0x00397B0C+1342220]\n\tOrdinal0 [0x00374984+1198468]\n\tOrdinal0 [0x00397C14+1342484]\n\tOrdinal0 [0x003A75FA+1406458]\n\tOrdinal0 [0x00397976+1341814]\n\tOrdinal0 [0x003736B6+1193654]\n\tOrdinal0 [0x00374546+1197382]\n\tGetHandleVerifier [0x00659622+1619522]\n\tGetHandleVerifier [0x0070882C+2336844]\n\tGetHandleVerifier [0x005523E1+541697]\n\tGetHandleVerifier [0x00551443+537699]\n\tOrdinal0 [0x0045D18E+2150798]\n\tOrdinal0 [0x00461518+2168088]\n\tOrdinal0 [0x00461660+2168416]\n\tOrdinal0 [0x0046B330+2208560]\n\tBaseThreadInitThunk [0x76816739+25]\n\tRtlGetFullPathName_UEx [0x770B8E7F+1215]\n\tRtlGetFullPathName_UEx [0x770B8E4D+1165]\n"
     ]
    }
   ],
   "source": [
    "# Drives necessário que depende do brouser\n",
    "# chrome -> chromedriver\n",
    "# firefox -> geckodrive\n",
    "\n",
    "from selenium import webdriver\n",
    "from empiricus import login, password\n",
    "\n",
    "# Após copiar o chromedriver para a pasta da anaconda onde está o arquivo Python.exe\n",
    "# Será possível execultar essa liha\n",
    "navegador = webdriver.Chrome()\n",
    "navegador.get(\"https://accounts.empiricus.com.br/\")\n",
    "\n",
    "#navegador.find_element_by_xpath('//*[@id=\"username\"]').send_keys(login)\n",
    "navegador.find_element_by_xpath('//*[@id=\"password\"]').send_keys('senha')\n",
    "navegador.find_element_by_xpath('//*[@id=\"login\"]/div[3]/div[1]/div[2]/div[2]/form/button').click\n",
    "\n"
   ]
  },
  {
   "cell_type": "code",
   "execution_count": null,
   "id": "5a1901c6-3e51-49d6-a0e4-81dc7e027c94",
   "metadata": {},
   "outputs": [],
   "source": []
  }
 ],
 "metadata": {
  "kernelspec": {
   "display_name": "Python 3",
   "language": "python",
   "name": "python3"
  },
  "language_info": {
   "codemirror_mode": {
    "name": "ipython",
    "version": 3
   },
   "file_extension": ".py",
   "mimetype": "text/x-python",
   "name": "python",
   "nbconvert_exporter": "python",
   "pygments_lexer": "ipython3",
   "version": "3.8.8"
  }
 },
 "nbformat": 4,
 "nbformat_minor": 5
}
