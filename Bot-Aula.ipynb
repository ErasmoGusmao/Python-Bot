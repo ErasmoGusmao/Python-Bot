{
 "cells": [
  {
   "cell_type": "markdown",
   "id": "1e88de56-31bb-4b57-98a0-2462117fb57d",
   "metadata": {},
   "source": [
    "# Bot com Python - Utilizando Pyautogui e Selenium"
   ]
  },
  {
   "cell_type": "markdown",
   "id": "cf378cfc-7227-48bb-9657-4eeeaf4ebb2c",
   "metadata": {},
   "source": [
    "### Bot no Computador - pyautogui"
   ]
  },
  {
   "cell_type": "markdown",
   "id": "bdaf0aec-34fd-4e07-9172-842f6e769576",
   "metadata": {},
   "source": [
    "A biblioteca pyautogui permite controlar o mouse e o teclado"
   ]
  },
  {
   "cell_type": "code",
   "execution_count": 3,
   "id": "bc907f32-e85e-4c0a-b02f-700a657c0860",
   "metadata": {
    "collapsed": true,
    "jupyter": {
     "outputs_hidden": true
    },
    "tags": []
   },
   "outputs": [
    {
     "name": "stdout",
     "output_type": "stream",
     "text": [
      "Collecting pyautogui\n",
      "  Downloading PyAutoGUI-0.9.53.tar.gz (59 kB)\n",
      "Collecting pymsgbox\n",
      "  Downloading PyMsgBox-1.0.9.tar.gz (18 kB)\n",
      "  Installing build dependencies: started\n",
      "  Installing build dependencies: finished with status 'done'\n",
      "  Getting requirements to build wheel: started\n",
      "  Getting requirements to build wheel: finished with status 'done'\n",
      "    Preparing wheel metadata: started\n",
      "    Preparing wheel metadata: finished with status 'done'\n",
      "Collecting PyTweening>=1.0.1\n",
      "  Downloading pytweening-1.0.4.tar.gz (14 kB)\n",
      "Collecting pyscreeze>=0.1.21\n",
      "  Downloading PyScreeze-0.1.28.tar.gz (25 kB)\n",
      "  Installing build dependencies: started\n",
      "  Installing build dependencies: finished with status 'done'\n",
      "  Getting requirements to build wheel: started\n",
      "  Getting requirements to build wheel: finished with status 'done'\n",
      "    Preparing wheel metadata: started\n",
      "    Preparing wheel metadata: finished with status 'done'\n",
      "Collecting pygetwindow>=0.0.5\n",
      "  Downloading PyGetWindow-0.0.9.tar.gz (9.7 kB)\n",
      "Collecting mouseinfo\n",
      "  Downloading MouseInfo-0.1.3.tar.gz (10 kB)\n",
      "Collecting pyrect\n",
      "  Downloading PyRect-0.1.4.tar.gz (15 kB)\n",
      "Requirement already satisfied: Pillow>=6.2.1 in c:\\users\\erasm\\anaconda3\\lib\\site-packages (from pyscreeze>=0.1.21->pyautogui) (8.2.0)\n",
      "Collecting pyperclip\n",
      "  Downloading pyperclip-1.8.2.tar.gz (20 kB)\n",
      "Building wheels for collected packages: pyautogui, pygetwindow, pyscreeze, PyTweening, mouseinfo, pymsgbox, pyperclip, pyrect\n",
      "  Building wheel for pyautogui (setup.py): started\n",
      "  Building wheel for pyautogui (setup.py): finished with status 'done'\n",
      "  Created wheel for pyautogui: filename=PyAutoGUI-0.9.53-py3-none-any.whl size=36583 sha256=383812090d80c284bcae15160876a8b1cecc6a6841387a41fb13e4950bc414ab\n",
      "  Stored in directory: c:\\users\\erasm\\appdata\\local\\pip\\cache\\wheels\\54\\04\\f7\\55704a9d374ed923785a4fdc0ef00151fa25306b3b93345532\n",
      "  Building wheel for pygetwindow (setup.py): started\n",
      "  Building wheel for pygetwindow (setup.py): finished with status 'done'\n",
      "  Created wheel for pygetwindow: filename=PyGetWindow-0.0.9-py3-none-any.whl size=11078 sha256=f2866147d43f9beacdfd825a75bf2f089ef681ad608e27b5d77b3a60b2ae4aab\n",
      "  Stored in directory: c:\\users\\erasm\\appdata\\local\\pip\\cache\\wheels\\91\\e3\\04\\184bda98ec7f7d5f0ba1f372bcf7b3ba86325151ae1dd690fe\n",
      "  Building wheel for pyscreeze (PEP 517): started\n",
      "  Building wheel for pyscreeze (PEP 517): finished with status 'done'\n",
      "  Created wheel for pyscreeze: filename=PyScreeze-0.1.28-py3-none-any.whl size=13021 sha256=64ccc7e35232b4180d2850058be1dc70e7beed9ce01c946681bccf7f1bf46f3f\n",
      "  Stored in directory: c:\\users\\erasm\\appdata\\local\\pip\\cache\\wheels\\b1\\b0\\5c\\9fb5beb2d6c708479a670e92f4ab3b54523a15c9cd4a46e24e\n",
      "  Building wheel for PyTweening (setup.py): started\n",
      "  Building wheel for PyTweening (setup.py): finished with status 'done'\n",
      "  Created wheel for PyTweening: filename=pytweening-1.0.4-py3-none-any.whl size=5825 sha256=26a8161945c739d4f13364c5bc86661ba38ae2d48af71348ff2b71c224b3919c\n",
      "  Stored in directory: c:\\users\\erasm\\appdata\\local\\pip\\cache\\wheels\\a2\\1b\\69\\dc477653ccc19228bf53af76c623e4e82e5dc1b6f78d5c4d35\n",
      "  Building wheel for mouseinfo (setup.py): started\n",
      "  Building wheel for mouseinfo (setup.py): finished with status 'done'\n",
      "  Created wheel for mouseinfo: filename=MouseInfo-0.1.3-py3-none-any.whl size=10905 sha256=e41e6119babf33dba97151d30f4c5e204df0730676f81d6a7ef592fe589ab3a7\n",
      "  Stored in directory: c:\\users\\erasm\\appdata\\local\\pip\\cache\\wheels\\d1\\72\\fb\\35f403de66285df8ecca7049bcc61bfb57aba0f76d1f08f7eb\n",
      "  Building wheel for pymsgbox (PEP 517): started\n",
      "  Building wheel for pymsgbox (PEP 517): finished with status 'done'\n",
      "  Created wheel for pymsgbox: filename=PyMsgBox-1.0.9-py3-none-any.whl size=7420 sha256=70372a46b8b8ca04faa0ad30d259c2dcd17b6a7a8c09943142af681954741998\n",
      "  Stored in directory: c:\\users\\erasm\\appdata\\local\\pip\\cache\\wheels\\91\\28\\0d\\f4eb606d38276836237d6dc2abf094241e6db5682a126e0389\n",
      "  Building wheel for pyperclip (setup.py): started\n",
      "  Building wheel for pyperclip (setup.py): finished with status 'done'\n",
      "  Created wheel for pyperclip: filename=pyperclip-1.8.2-py3-none-any.whl size=11107 sha256=d8a36c6fa07b4a99c87b3154671e62de67be8a55bbf28fd288784edceac07c81\n",
      "  Stored in directory: c:\\users\\erasm\\appdata\\local\\pip\\cache\\wheels\\7f\\1a\\65\\84ff8c386bec21fca6d220ea1f5498a0367883a78dd5ba6122\n",
      "  Building wheel for pyrect (setup.py): started\n",
      "  Building wheel for pyrect (setup.py): finished with status 'done'\n",
      "  Created wheel for pyrect: filename=PyRect-0.1.4-py2.py3-none-any.whl size=9547 sha256=d20070505d1b4527df3bce30240041c0f8e14a37c030d12035c8b96178e265bb\n",
      "  Stored in directory: c:\\users\\erasm\\appdata\\local\\pip\\cache\\wheels\\d1\\e4\\47\\c62f8291b16b6df7e89ac885881ff71f35ca04c6e384251de9\n",
      "Successfully built pyautogui pygetwindow pyscreeze PyTweening mouseinfo pymsgbox pyperclip pyrect\n",
      "Installing collected packages: pyrect, pyperclip, PyTweening, pyscreeze, pymsgbox, pygetwindow, mouseinfo, pyautogui\n",
      "Successfully installed PyTweening-1.0.4 mouseinfo-0.1.3 pyautogui-0.9.53 pygetwindow-0.0.9 pymsgbox-1.0.9 pyperclip-1.8.2 pyrect-0.1.4 pyscreeze-0.1.28\n"
     ]
    }
   ],
   "source": [
    "# Instalando a biblioteca pyautogui\n",
    "!pip install pyautogui"
   ]
  },
  {
   "cell_type": "markdown",
   "id": "21131056-07d2-4f77-b1e3-dc0f91739e7b",
   "metadata": {},
   "source": [
    "Script para determinar a posição do mouse - Ferramenta auxiliar."
   ]
  },
  {
   "cell_type": "code",
   "execution_count": 4,
   "id": "4f4e53bb-5d22-4769-b9c2-6882e661bb4f",
   "metadata": {},
   "outputs": [
    {
     "data": {
      "text/plain": [
       "Point(x=1915, y=1018)"
      ]
     },
     "execution_count": 4,
     "metadata": {},
     "output_type": "execute_result"
    }
   ],
   "source": [
    "# Teste de acesso a planilha Lista.xlsx\n",
    "import pyautogui\n",
    "import time\n",
    "\n",
    "# pausa de 3 segundos para dar tempo de posicionar o mouse na tela\n",
    "time.sleep(5)\n",
    "\n",
    "# Pego a posição exata do curso do mouse na tela\n",
    "pyautogui.position()"
   ]
  },
  {
   "cell_type": "markdown",
   "id": "f5d8f245-4af5-43c2-8652-de6e9cbbcb6f",
   "metadata": {},
   "source": [
    "Script do Bot para acessar minha planilha"
   ]
  },
  {
   "cell_type": "code",
   "execution_count": 49,
   "id": "e5aa4447-b1c0-4436-8a74-ef66ac275c38",
   "metadata": {},
   "outputs": [],
   "source": [
    "# Teste de acesso a planilha Lista.xlsx\n",
    "import pyautogui\n",
    "\n",
    "# Pausa de 1 segundo para cada liha de comando\n",
    "pyautogui.PAUSE = 0.5\n",
    "\n",
    "# Abrindo a ferramenta no sistema\n",
    "pyautogui.press(\"win\")\n",
    "\n",
    "# Clicar na barra de endereço do Explorador\n",
    "pyautogui.click(x=775, y=159)\n",
    "\n",
    "# Digita o nome na barra de endereço\n",
    "pyautogui.click(x=775, y=159)\n",
    "pyautogui.write(\"Explorador de Arquivos\")\n",
    "pyautogui.press(\"enter\")\n",
    "\n",
    "# Maximizar a tela\n",
    "pyautogui.click(x=1610, y=194)\n",
    "pyautogui.press(\"enter\")\n",
    "\n",
    "# Clicar na barra de endereço do Explorador\n",
    "pyautogui.click(x=892, y=127)\n",
    "\n",
    "# Escreve o endereço onde está minha planilha\n",
    "pyautogui.write(\"D:\\HD-Antigo\\Documentos\\Erasmo Documentos\\Lista.xlsx\")\n",
    "pyautogui.press(\"enter\")"
   ]
  },
  {
   "cell_type": "markdown",
   "id": "2cfd0620-fb76-4792-bb0a-1cb23427f0c8",
   "metadata": {},
   "source": [
    "### Bot na Internet - Selenium"
   ]
  },
  {
   "cell_type": "markdown",
   "id": "8666d6c4-98ce-4415-ad28-f5992b4f6efb",
   "metadata": {},
   "source": [
    "Biblioteca para avegar pela internet"
   ]
  },
  {
   "cell_type": "code",
   "execution_count": 51,
   "id": "666e256b-2434-4eb4-9a62-817217d0663a",
   "metadata": {
    "collapsed": true,
    "jupyter": {
     "outputs_hidden": true
    },
    "tags": []
   },
   "outputs": [
    {
     "name": "stdout",
     "output_type": "stream",
     "text": [
      "Collecting selenium\n",
      "  Downloading selenium-4.1.0-py3-none-any.whl (958 kB)\n",
      "Collecting trio-websocket~=0.9\n",
      "  Downloading trio_websocket-0.9.2-py3-none-any.whl (16 kB)\n",
      "Requirement already satisfied: urllib3[secure]~=1.26 in c:\\users\\erasm\\anaconda3\\lib\\site-packages (from selenium) (1.26.4)\n",
      "Collecting trio~=0.17\n",
      "  Downloading trio-0.19.0-py3-none-any.whl (356 kB)\n",
      "Collecting outcome\n",
      "  Downloading outcome-1.1.0-py2.py3-none-any.whl (9.7 kB)\n",
      "Requirement already satisfied: sortedcontainers in c:\\users\\erasm\\anaconda3\\lib\\site-packages (from trio~=0.17->selenium) (2.3.0)\n",
      "Requirement already satisfied: cffi>=1.14 in c:\\users\\erasm\\anaconda3\\lib\\site-packages (from trio~=0.17->selenium) (1.14.5)\n",
      "Requirement already satisfied: idna in c:\\users\\erasm\\anaconda3\\lib\\site-packages (from trio~=0.17->selenium) (2.10)\n",
      "Requirement already satisfied: attrs>=19.2.0 in c:\\users\\erasm\\anaconda3\\lib\\site-packages (from trio~=0.17->selenium) (20.3.0)\n",
      "Requirement already satisfied: sniffio in c:\\users\\erasm\\anaconda3\\lib\\site-packages (from trio~=0.17->selenium) (1.2.0)\n",
      "Requirement already satisfied: async-generator>=1.9 in c:\\users\\erasm\\anaconda3\\lib\\site-packages (from trio~=0.17->selenium) (1.10)\n",
      "Requirement already satisfied: pycparser in c:\\users\\erasm\\anaconda3\\lib\\site-packages (from cffi>=1.14->trio~=0.17->selenium) (2.20)\n",
      "Collecting wsproto>=0.14\n",
      "  Downloading wsproto-1.0.0-py3-none-any.whl (24 kB)\n",
      "Requirement already satisfied: cryptography>=1.3.4 in c:\\users\\erasm\\anaconda3\\lib\\site-packages (from urllib3[secure]~=1.26->selenium) (3.4.7)\n",
      "Requirement already satisfied: certifi in c:\\users\\erasm\\anaconda3\\lib\\site-packages (from urllib3[secure]~=1.26->selenium) (2020.12.5)\n",
      "Requirement already satisfied: pyOpenSSL>=0.14 in c:\\users\\erasm\\anaconda3\\lib\\site-packages (from urllib3[secure]~=1.26->selenium) (20.0.1)\n",
      "Requirement already satisfied: six>=1.5.2 in c:\\users\\erasm\\anaconda3\\lib\\site-packages (from pyOpenSSL>=0.14->urllib3[secure]~=1.26->selenium) (1.15.0)\n",
      "Collecting h11<1,>=0.9.0\n",
      "  Downloading h11-0.13.0-py3-none-any.whl (58 kB)\n",
      "Installing collected packages: outcome, h11, wsproto, trio, trio-websocket, selenium\n",
      "Successfully installed h11-0.13.0 outcome-1.1.0 selenium-4.1.0 trio-0.19.0 trio-websocket-0.9.2 wsproto-1.0.0\n"
     ]
    }
   ],
   "source": [
    "# Instalando o pacote\n",
    "!pip install selenium"
   ]
  },
  {
   "cell_type": "markdown",
   "id": "f39e310f-e052-44f8-8f1b-4ab55936b9c1",
   "metadata": {},
   "source": [
    "Criar um bot no computador para interagir com o browser e clicar."
   ]
  },
  {
   "cell_type": "code",
   "execution_count": 3,
   "id": "f9346acb-c298-4387-83e8-793b0ecfa83a",
   "metadata": {},
   "outputs": [],
   "source": [
    "import pyautogui\n",
    "\n",
    "def BotClica():\n",
    "    # Clicar no meio da tela\n",
    "    pyautogui.click(x=664, y=593)\n",
    "    \n",
    "    for i in range(1):\n",
    "        pyautogui.scroll(-250)\n",
    "    \n",
    "    pyautogui.click(x=540, y=834)\n"
   ]
  },
  {
   "cell_type": "markdown",
   "id": "3df7da4e-a7f8-4358-aafe-df1a6fbd313a",
   "metadata": {},
   "source": [
    "Esse Bot isrá acessar minha conta do Estratégia Concursos"
   ]
  },
  {
   "cell_type": "code",
   "execution_count": 2,
   "id": "59a4aa6d-4312-4e45-979e-445f5548f561",
   "metadata": {},
   "outputs": [
    {
     "name": "stderr",
     "output_type": "stream",
     "text": [
      "<ipython-input-2-09697e3f7eda>:21: DeprecationWarning: find_element_by_* commands are deprecated. Please use find_element() instead\n",
      "  navegador.find_element_by_xpath('//*[@id=\"login_email\"]').send_keys(login)\n",
      "<ipython-input-2-09697e3f7eda>:22: DeprecationWarning: find_element_by_* commands are deprecated. Please use find_element() instead\n",
      "  navegador.find_element_by_xpath('//*[@id=\"login_senha\"]').send_keys(password)\n",
      "<ipython-input-2-09697e3f7eda>:23: DeprecationWarning: find_element_by_* commands are deprecated. Please use find_element() instead\n",
      "  navegador.find_element_by_xpath('//*[@id=\"login_senha\"]').submit()\n"
     ]
    }
   ],
   "source": [
    "import time\n",
    "# Drives necessário que depende do brouser\n",
    "# chrome -> chromedriver\n",
    "# firefox -> geckodrive\n",
    "\n",
    "from selenium import webdriver\n",
    "from user import login, password\n",
    "\n",
    "# Para definir as dimensões da janela\n",
    "from selenium.webdriver.chrome.options import Options\n",
    "\n",
    "options = Options()\n",
    "options.add_argument('window-size=400,800')\n",
    "\n",
    "# Após copiar o chromedriver para a pasta da anaconda onde está o arquivo Python.exe\n",
    "# Será possível execultar essa liha\n",
    "navegador = webdriver.Chrome()\n",
    "navegador.get(\"https://www.estrategiaconcursos.com.br/loja/entrar/\")\n",
    "time.sleep(2)\n",
    "\n",
    "navegador.find_element_by_xpath('//*[@id=\"login_email\"]').send_keys(login)\n",
    "navegador.find_element_by_xpath('//*[@id=\"login_senha\"]').send_keys(password)\n",
    "navegador.find_element_by_xpath('//*[@id=\"login_senha\"]').submit()\n",
    "\n",
    "# método para clicar\n",
    "#navegador.find_element_by_xpath('/html/body/section/div/div/div[1]/section[1]/form/div[4]/button').click\n",
    "#BotClica()\n"
   ]
  },
  {
   "cell_type": "code",
   "execution_count": null,
   "id": "5a1901c6-3e51-49d6-a0e4-81dc7e027c94",
   "metadata": {},
   "outputs": [],
   "source": []
  }
 ],
 "metadata": {
  "kernelspec": {
   "display_name": "Python 3",
   "language": "python",
   "name": "python3"
  },
  "language_info": {
   "codemirror_mode": {
    "name": "ipython",
    "version": 3
   },
   "file_extension": ".py",
   "mimetype": "text/x-python",
   "name": "python",
   "nbconvert_exporter": "python",
   "pygments_lexer": "ipython3",
   "version": "3.8.8"
  }
 },
 "nbformat": 4,
 "nbformat_minor": 5
}
